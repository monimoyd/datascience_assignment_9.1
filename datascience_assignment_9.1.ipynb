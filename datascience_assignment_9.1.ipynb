{
 "cells": [
  {
   "cell_type": "markdown",
   "metadata": {},
   "source": [
    "## 1. How-to-count-distance-to-the-previous-zero: For each value, count the difference back to the previous zero (or the start of the Series,\n",
    "whichever is closer) create a new column 'Y'.Consider a DataFrame df where there is an integer column 'X'\n",
    "\n",
    "## Solution:\n",
    "* Find out list of indexes for which value is 0\n",
    "* Using list comprehension create a list which has distance to previous zero or start of series whichever is closer"
   ]
  },
  {
   "cell_type": "code",
   "execution_count": 142,
   "metadata": {
    "scrolled": true
   },
   "outputs": [
    {
     "name": "stdout",
     "output_type": "stream",
     "text": [
      "   X  Y\n",
      "0  7  0\n",
      "1  2  1\n",
      "2  0  0\n",
      "3  3  1\n",
      "4  4  2\n",
      "5  2  3\n",
      "6  5  4\n",
      "7  0  0\n",
      "8  3  1\n",
      "9  4  2\n"
     ]
    }
   ],
   "source": [
    "import numpy as np\n",
    "import pandas as pd\n",
    "from datetime import date, timedelta\n",
    "\n",
    "# Define the dataframe df\n",
    "df = pd.DataFrame({'X':[7, 2, 0, 3, 4, 2, 5, 0, 3, 4]})\n",
    "\n",
    "# Find indexes of elements which are 0 and create a numpy array\n",
    "zero_index_array = np.array(df[df['X'] == 0].index.values)\n",
    "\n",
    "# Get list of indexes of df\n",
    "all_index_list = df.index.values\n",
    "\n",
    "# Create a list using list comprenehsion for each index by taking the minimum distance from index of zero or\n",
    "# beginning of list whichever is closer and assign to new Column Y\n",
    "df['Y'] = [indx_element \n",
    "           if np.max(indx_element - zero_index_array) < 0  \n",
    "           else min(np.min(indx_element - zero_index_array[indx_element>=zero_index_array]), indx_element)\n",
    "           for indx_element in all_index_list]\n",
    "\n",
    "\n",
    "print(df)\n"
   ]
  },
  {
   "cell_type": "markdown",
   "metadata": {},
   "source": [
    "## 2. Create a DatetimeIndex that contains each business day of 2015 and use it to index a Series of random numbers.\n",
    "\n",
    "## Solution:\n",
    "\n",
    "* Get list of dates between January 1, 2015 and December 31, 2015\n",
    "* Create a panda series with a list of random of numbers for each day pf year 2015 and index as list of dates of 2015"
   ]
  },
  {
   "cell_type": "code",
   "execution_count": 137,
   "metadata": {},
   "outputs": [
    {
     "name": "stdout",
     "output_type": "stream",
     "text": [
      "2015-01-01    0.214900\n",
      "2015-01-02    0.250979\n",
      "2015-01-03    0.248535\n",
      "2015-01-04    0.271042\n",
      "2015-01-05    0.867795\n",
      "2015-01-06    0.818453\n",
      "2015-01-07    0.378093\n",
      "2015-01-08    0.476838\n",
      "2015-01-09    0.260502\n",
      "2015-01-10    0.372554\n",
      "2015-01-11    0.299957\n",
      "2015-01-12    0.879281\n",
      "2015-01-13    0.807837\n",
      "2015-01-14    0.901330\n",
      "2015-01-15    0.624708\n",
      "2015-01-16    0.026445\n",
      "2015-01-17    0.554206\n",
      "2015-01-18    0.355432\n",
      "2015-01-19    0.647809\n",
      "2015-01-20    0.840164\n",
      "2015-01-21    0.899015\n",
      "2015-01-22    0.413360\n",
      "2015-01-23    0.708274\n",
      "2015-01-24    0.072336\n",
      "2015-01-25    0.308823\n",
      "2015-01-26    0.286196\n",
      "2015-01-27    0.335732\n",
      "2015-01-28    0.707760\n",
      "2015-01-29    0.396609\n",
      "2015-01-30    0.516280\n",
      "                ...   \n",
      "2015-12-02    0.104621\n",
      "2015-12-03    0.200122\n",
      "2015-12-04    0.056402\n",
      "2015-12-05    0.431210\n",
      "2015-12-06    0.906750\n",
      "2015-12-07    0.606912\n",
      "2015-12-08    0.151565\n",
      "2015-12-09    0.780146\n",
      "2015-12-10    0.229566\n",
      "2015-12-11    0.971995\n",
      "2015-12-12    0.962680\n",
      "2015-12-13    0.617278\n",
      "2015-12-14    0.028647\n",
      "2015-12-15    0.045147\n",
      "2015-12-16    0.182977\n",
      "2015-12-17    0.717920\n",
      "2015-12-18    0.465511\n",
      "2015-12-19    0.926749\n",
      "2015-12-20    0.066309\n",
      "2015-12-21    0.154188\n",
      "2015-12-22    0.534385\n",
      "2015-12-23    0.891175\n",
      "2015-12-24    0.939244\n",
      "2015-12-25    0.455424\n",
      "2015-12-26    0.137855\n",
      "2015-12-27    0.548952\n",
      "2015-12-28    0.182018\n",
      "2015-12-29    0.437821\n",
      "2015-12-30    0.781668\n",
      "2015-12-31    0.892816\n",
      "Freq: D, Length: 365, dtype: float64\n"
     ]
    }
   ],
   "source": [
    "dates = pd.date_range('2015-01-01', '2015-12-31')\n",
    "s = pd.Series(np.random.rand(dates.shape[0]), index = dates)\n",
    "print(s)"
   ]
  },
  {
   "cell_type": "markdown",
   "metadata": {},
   "source": [
    "## 3. Find the sum of the values in s for every Wednesday\n",
    "\n",
    "## Solution:\n",
    "* Use filter index dayofweek as 2 (Wednesssay) and get sum"
   ]
  },
  {
   "cell_type": "code",
   "execution_count": 138,
   "metadata": {},
   "outputs": [
    {
     "data": {
      "text/plain": [
       "29.901219056221414"
      ]
     },
     "execution_count": 138,
     "metadata": {},
     "output_type": "execute_result"
    }
   ],
   "source": [
    "s[s.index.dayofweek ==2].sum()"
   ]
  },
  {
   "cell_type": "markdown",
   "metadata": {},
   "source": [
    "## 4. Average For each calendar month\n",
    "\n",
    "## Solution\n",
    "\n",
    "* Define string list of months\n",
    "* On s group by month and get average for each month\n",
    "* Use index of s as list of months"
   ]
  },
  {
   "cell_type": "code",
   "execution_count": 144,
   "metadata": {},
   "outputs": [
    {
     "name": "stdout",
     "output_type": "stream",
     "text": [
      "January       0.490671\n",
      "February      0.496098\n",
      "March         0.414482\n",
      "April         0.495836\n",
      "May           0.449093\n",
      "June          0.458935\n",
      "July          0.662818\n",
      "August        0.609656\n",
      "Septemeber    0.457189\n",
      "October       0.476392\n",
      "Novemeber     0.501303\n",
      "December      0.484697\n",
      "dtype: float64\n"
     ]
    }
   ],
   "source": [
    "# Define list of months\n",
    "month_list = ['January', 'February', 'March', 'April', 'May', 'June', 'July', 'August', 'Septemeber', 'October', 'Novemeber', 'December']\n",
    "\n",
    "# Calculate monthly average by taking groupby month on s and taking mean and assigh to datafrome\n",
    "# monthly_average\n",
    "monthly_average = s.groupby(s.index.month).mean()\n",
    "\n",
    "# Populate indexes of monthly_average with list of months month_list\n",
    "monthly_average.index = month_list\n",
    "print(monthly_average)\n"
   ]
  },
  {
   "cell_type": "markdown",
   "metadata": {},
   "source": [
    "## 5. For each group of four consecutive calendar months in s, find the date on which the highest value occurred.\n",
    "\n",
    "## Solution:\n",
    "\n",
    "* Get list of consecutive 4 months (eg January-April, February-May.....,Septembe-December)\n",
    "* Using list comprehension, populate the list For each group of four consecutive calendar months in s, find the date on which \n",
    "the highest value occurred\n",
    "* Create a panda series with value as highest value occurred list and index as list of consecutive 4 months"
   ]
  },
  {
   "cell_type": "code",
   "execution_count": 145,
   "metadata": {},
   "outputs": [
    {
     "name": "stdout",
     "output_type": "stream",
     "text": [
      "January-April        2015-02-18\n",
      "February-May         2015-05-22\n",
      "March-June           2015-06-07\n",
      "April-July           2015-06-07\n",
      "May-August           2015-06-07\n",
      "June-September       2015-06-07\n",
      "July-October         2015-08-17\n",
      "August-November      2015-08-17\n",
      "September-December   2015-11-26\n",
      "dtype: datetime64[ns]\n"
     ]
    }
   ],
   "source": [
    "#define string list of months\n",
    "month_list = ['January','February', 'March', 'April', 'May', 'June', 'July',\n",
    "          'August','September', 'October', 'November', 'December']\n",
    "\n",
    "# Define string list of 4 consecutive months\n",
    "consecutive_4_months_list = [month_list[i] + \"-\" + month_list[i + 3] for i in range(9)]\n",
    "\n",
    "# Using list comprehension populate the list For each group of four consecutive calendar months in s, find the date on which \n",
    "# the highest value occurred. For each  four months window, the series of values s failling under four months window and calculate the \n",
    "# id having maximum value\n",
    "max_random_date_list = [(s[(s.index.month >= i) & (s.index.month <= (i+3))]).idxmax()\n",
    "                        for i in range(1,10)]\n",
    "\n",
    "# Create a panda series with dates having maximum value in four months window and index as\n",
    "# list of four months window\n",
    "max_random_date_series = pd.Series(max_random_date_list, index = consecutive_4_months_list)\n",
    "print(max_random_date_series)\n"
   ]
  },
  {
   "cell_type": "code",
   "execution_count": null,
   "metadata": {},
   "outputs": [],
   "source": []
  }
 ],
 "metadata": {
  "kernelspec": {
   "display_name": "Python 3",
   "language": "python",
   "name": "python3"
  },
  "language_info": {
   "codemirror_mode": {
    "name": "ipython",
    "version": 3
   },
   "file_extension": ".py",
   "mimetype": "text/x-python",
   "name": "python",
   "nbconvert_exporter": "python",
   "pygments_lexer": "ipython3",
   "version": "3.6.4"
  }
 },
 "nbformat": 4,
 "nbformat_minor": 2
}
